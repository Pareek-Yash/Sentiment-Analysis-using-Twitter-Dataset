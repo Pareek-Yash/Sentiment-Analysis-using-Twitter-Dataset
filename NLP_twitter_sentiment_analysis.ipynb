{
  "cells": [
    {
      "cell_type": "markdown",
      "source": [
        "## Importing Essentials"
      ],
      "metadata": {
        "id": "AVk38gKQI183"
      }
    },
    {
      "cell_type": "code",
      "execution_count": null,
      "metadata": {
        "id": "VxgQj38d_TtF"
      },
      "outputs": [],
      "source": [
        "import pandas as pd\n",
        "import numpy as np\n",
        "import tensorflow as tf"
      ]
    },
    {
      "cell_type": "code",
      "execution_count": null,
      "metadata": {
        "id": "CQqahMHXAgOl"
      },
      "outputs": [],
      "source": [
        "# Tensorflow NLP kit(only so much for our needs)\n",
        "from tensorflow.keras.preprocessing.sequence import pad_sequences\n",
        "from tensorflow.keras.layers import Embedding, LSTM, Dense, Dropout, Bidirectional\n",
        "from tensorflow.keras.preprocessing.text import Tokenizer"
      ]
    },
    {
      "cell_type": "code",
      "execution_count": null,
      "metadata": {
        "id": "i8_69-z7KDJ1"
      },
      "outputs": [],
      "source": [
        "# Classification metric\n",
        "from sklearn.metrics import classification_report"
      ]
    },
    {
      "cell_type": "code",
      "execution_count": null,
      "metadata": {
        "colab": {
          "base_uri": "https://localhost:8080/"
        },
        "id": "yyk1m57kBBrU",
        "outputId": "5bf226c1-5541-4179-951e-06c1d83562eb"
      },
      "outputs": [
        {
          "output_type": "stream",
          "name": "stderr",
          "text": [
            "[nltk_data] Downloading package stopwords to /root/nltk_data...\n",
            "[nltk_data]   Unzipping corpora/stopwords.zip.\n",
            "[nltk_data] Downloading package wordnet to /root/nltk_data...\n"
          ]
        }
      ],
      "source": [
        "# NLTK NLP kit(only so much for our needs)\n",
        "import nltk\n",
        "nltk.download('stopwords')\n",
        "nltk.download('wordnet')\n",
        "from nltk.corpus import stopwords\n",
        "from nltk.stem.wordnet import WordNetLemmatizer\n",
        "# Visualization\n",
        "from wordcloud import WordCloud\n",
        "import matplotlib.pyplot as plt"
      ]
    },
    {
      "cell_type": "code",
      "execution_count": null,
      "metadata": {
        "colab": {
          "base_uri": "https://localhost:8080/"
        },
        "id": "UjvvGsiT6VD6",
        "outputId": "4c65ebf3-0ed8-499c-a414-9d46f4a660fc"
      },
      "outputs": [
        {
          "output_type": "stream",
          "name": "stdout",
          "text": [
            "Mounted at /content/drive\n"
          ]
        }
      ],
      "source": [
        "from google.colab import drive\n",
        "drive.mount('/content/drive')"
      ]
    },
    {
      "cell_type": "code",
      "execution_count": null,
      "metadata": {
        "id": "udxsLwOY-hU8"
      },
      "outputs": [],
      "source": [
        "import zipfile\n",
        "with zipfile.ZipFile('/content/drive/MyDrive/Datasets/trainingandtestdata.zip', 'r') as zip_ref:\n",
        "  zip_ref.extractall('/content')"
      ]
    },
    {
      "cell_type": "code",
      "execution_count": null,
      "metadata": {
        "id": "iDcqixyi_Dq8",
        "colab": {
          "base_uri": "https://localhost:8080/",
          "height": 206
        },
        "outputId": "2224fbb6-bef9-496a-a839-14499b03ff0b"
      },
      "outputs": [
        {
          "output_type": "execute_result",
          "data": {
            "text/plain": [
              "   target         ids                          date      flag  \\\n",
              "0       0  1467810369  Mon Apr 06 22:19:45 PDT 2009  NO_QUERY   \n",
              "1       0  1467810672  Mon Apr 06 22:19:49 PDT 2009  NO_QUERY   \n",
              "2       0  1467810917  Mon Apr 06 22:19:53 PDT 2009  NO_QUERY   \n",
              "3       0  1467811184  Mon Apr 06 22:19:57 PDT 2009  NO_QUERY   \n",
              "4       0  1467811193  Mon Apr 06 22:19:57 PDT 2009  NO_QUERY   \n",
              "\n",
              "              user                                               text  \n",
              "0  _TheSpecialOne_  @switchfoot http://twitpic.com/2y1zl - Awww, t...  \n",
              "1    scotthamilton  is upset that he can't update his Facebook by ...  \n",
              "2         mattycus  @Kenichan I dived many times for the ball. Man...  \n",
              "3          ElleCTF    my whole body feels itchy and like its on fire   \n",
              "4           Karoli  @nationwideclass no, it's not behaving at all....  "
            ],
            "text/html": [
              "\n",
              "  <div id=\"df-d96ce49d-a5e2-462c-864a-2875affd0d45\">\n",
              "    <div class=\"colab-df-container\">\n",
              "      <div>\n",
              "<style scoped>\n",
              "    .dataframe tbody tr th:only-of-type {\n",
              "        vertical-align: middle;\n",
              "    }\n",
              "\n",
              "    .dataframe tbody tr th {\n",
              "        vertical-align: top;\n",
              "    }\n",
              "\n",
              "    .dataframe thead th {\n",
              "        text-align: right;\n",
              "    }\n",
              "</style>\n",
              "<table border=\"1\" class=\"dataframe\">\n",
              "  <thead>\n",
              "    <tr style=\"text-align: right;\">\n",
              "      <th></th>\n",
              "      <th>target</th>\n",
              "      <th>ids</th>\n",
              "      <th>date</th>\n",
              "      <th>flag</th>\n",
              "      <th>user</th>\n",
              "      <th>text</th>\n",
              "    </tr>\n",
              "  </thead>\n",
              "  <tbody>\n",
              "    <tr>\n",
              "      <th>0</th>\n",
              "      <td>0</td>\n",
              "      <td>1467810369</td>\n",
              "      <td>Mon Apr 06 22:19:45 PDT 2009</td>\n",
              "      <td>NO_QUERY</td>\n",
              "      <td>_TheSpecialOne_</td>\n",
              "      <td>@switchfoot http://twitpic.com/2y1zl - Awww, t...</td>\n",
              "    </tr>\n",
              "    <tr>\n",
              "      <th>1</th>\n",
              "      <td>0</td>\n",
              "      <td>1467810672</td>\n",
              "      <td>Mon Apr 06 22:19:49 PDT 2009</td>\n",
              "      <td>NO_QUERY</td>\n",
              "      <td>scotthamilton</td>\n",
              "      <td>is upset that he can't update his Facebook by ...</td>\n",
              "    </tr>\n",
              "    <tr>\n",
              "      <th>2</th>\n",
              "      <td>0</td>\n",
              "      <td>1467810917</td>\n",
              "      <td>Mon Apr 06 22:19:53 PDT 2009</td>\n",
              "      <td>NO_QUERY</td>\n",
              "      <td>mattycus</td>\n",
              "      <td>@Kenichan I dived many times for the ball. Man...</td>\n",
              "    </tr>\n",
              "    <tr>\n",
              "      <th>3</th>\n",
              "      <td>0</td>\n",
              "      <td>1467811184</td>\n",
              "      <td>Mon Apr 06 22:19:57 PDT 2009</td>\n",
              "      <td>NO_QUERY</td>\n",
              "      <td>ElleCTF</td>\n",
              "      <td>my whole body feels itchy and like its on fire</td>\n",
              "    </tr>\n",
              "    <tr>\n",
              "      <th>4</th>\n",
              "      <td>0</td>\n",
              "      <td>1467811193</td>\n",
              "      <td>Mon Apr 06 22:19:57 PDT 2009</td>\n",
              "      <td>NO_QUERY</td>\n",
              "      <td>Karoli</td>\n",
              "      <td>@nationwideclass no, it's not behaving at all....</td>\n",
              "    </tr>\n",
              "  </tbody>\n",
              "</table>\n",
              "</div>\n",
              "      <button class=\"colab-df-convert\" onclick=\"convertToInteractive('df-d96ce49d-a5e2-462c-864a-2875affd0d45')\"\n",
              "              title=\"Convert this dataframe to an interactive table.\"\n",
              "              style=\"display:none;\">\n",
              "        \n",
              "  <svg xmlns=\"http://www.w3.org/2000/svg\" height=\"24px\"viewBox=\"0 0 24 24\"\n",
              "       width=\"24px\">\n",
              "    <path d=\"M0 0h24v24H0V0z\" fill=\"none\"/>\n",
              "    <path d=\"M18.56 5.44l.94 2.06.94-2.06 2.06-.94-2.06-.94-.94-2.06-.94 2.06-2.06.94zm-11 1L8.5 8.5l.94-2.06 2.06-.94-2.06-.94L8.5 2.5l-.94 2.06-2.06.94zm10 10l.94 2.06.94-2.06 2.06-.94-2.06-.94-.94-2.06-.94 2.06-2.06.94z\"/><path d=\"M17.41 7.96l-1.37-1.37c-.4-.4-.92-.59-1.43-.59-.52 0-1.04.2-1.43.59L10.3 9.45l-7.72 7.72c-.78.78-.78 2.05 0 2.83L4 21.41c.39.39.9.59 1.41.59.51 0 1.02-.2 1.41-.59l7.78-7.78 2.81-2.81c.8-.78.8-2.07 0-2.86zM5.41 20L4 18.59l7.72-7.72 1.47 1.35L5.41 20z\"/>\n",
              "  </svg>\n",
              "      </button>\n",
              "      \n",
              "  <style>\n",
              "    .colab-df-container {\n",
              "      display:flex;\n",
              "      flex-wrap:wrap;\n",
              "      gap: 12px;\n",
              "    }\n",
              "\n",
              "    .colab-df-convert {\n",
              "      background-color: #E8F0FE;\n",
              "      border: none;\n",
              "      border-radius: 50%;\n",
              "      cursor: pointer;\n",
              "      display: none;\n",
              "      fill: #1967D2;\n",
              "      height: 32px;\n",
              "      padding: 0 0 0 0;\n",
              "      width: 32px;\n",
              "    }\n",
              "\n",
              "    .colab-df-convert:hover {\n",
              "      background-color: #E2EBFA;\n",
              "      box-shadow: 0px 1px 2px rgba(60, 64, 67, 0.3), 0px 1px 3px 1px rgba(60, 64, 67, 0.15);\n",
              "      fill: #174EA6;\n",
              "    }\n",
              "\n",
              "    [theme=dark] .colab-df-convert {\n",
              "      background-color: #3B4455;\n",
              "      fill: #D2E3FC;\n",
              "    }\n",
              "\n",
              "    [theme=dark] .colab-df-convert:hover {\n",
              "      background-color: #434B5C;\n",
              "      box-shadow: 0px 1px 3px 1px rgba(0, 0, 0, 0.15);\n",
              "      filter: drop-shadow(0px 1px 2px rgba(0, 0, 0, 0.3));\n",
              "      fill: #FFFFFF;\n",
              "    }\n",
              "  </style>\n",
              "\n",
              "      <script>\n",
              "        const buttonEl =\n",
              "          document.querySelector('#df-d96ce49d-a5e2-462c-864a-2875affd0d45 button.colab-df-convert');\n",
              "        buttonEl.style.display =\n",
              "          google.colab.kernel.accessAllowed ? 'block' : 'none';\n",
              "\n",
              "        async function convertToInteractive(key) {\n",
              "          const element = document.querySelector('#df-d96ce49d-a5e2-462c-864a-2875affd0d45');\n",
              "          const dataTable =\n",
              "            await google.colab.kernel.invokeFunction('convertToInteractive',\n",
              "                                                     [key], {});\n",
              "          if (!dataTable) return;\n",
              "\n",
              "          const docLinkHtml = 'Like what you see? Visit the ' +\n",
              "            '<a target=\"_blank\" href=https://colab.research.google.com/notebooks/data_table.ipynb>data table notebook</a>'\n",
              "            + ' to learn more about interactive tables.';\n",
              "          element.innerHTML = '';\n",
              "          dataTable['output_type'] = 'display_data';\n",
              "          await google.colab.output.renderOutput(dataTable, element);\n",
              "          const docLink = document.createElement('div');\n",
              "          docLink.innerHTML = docLinkHtml;\n",
              "          element.appendChild(docLink);\n",
              "        }\n",
              "      </script>\n",
              "    </div>\n",
              "  </div>\n",
              "  "
            ]
          },
          "metadata": {},
          "execution_count": 7
        }
      ],
      "source": [
        "columns = [\"target\", \"ids\", \"date\", \"flag\", \"user\", \"text\"]\n",
        "training_data = pd.read_csv('/content/training.1600000.processed.noemoticon.csv', encoding='latin_1', names=columns)\n",
        "testing_data = pd.read_csv('/content/testdata.manual.2009.06.14.csv', encoding='latin_1', names=columns)\n",
        "training_data.head()"
      ]
    },
    {
      "cell_type": "markdown",
      "metadata": {
        "id": "L8DnOqZSV0EB"
      },
      "source": [
        "## Cleaning the data/ Preprocessing"
      ]
    },
    {
      "cell_type": "code",
      "execution_count": null,
      "metadata": {
        "id": "LP-0PK1NWLKz",
        "colab": {
          "base_uri": "https://localhost:8080/"
        },
        "outputId": "7649c60a-aef5-44bb-fbb7-1d02fe460044"
      },
      "outputs": [
        {
          "output_type": "stream",
          "name": "stdout",
          "text": [
            "['i', 'me', 'my', 'myself', 'we', 'our', 'ours', 'ourselves', 'you', \"you're\", \"you've\", \"you'll\", \"you'd\", 'your', 'yours', 'yourself', 'yourselves', 'he', 'him', 'his', 'himself', 'she', \"she's\", 'her', 'hers', 'herself', 'it', \"it's\", 'its', 'itself', 'they', 'them', 'their', 'theirs', 'themselves', 'what', 'which', 'who', 'whom', 'this', 'that', \"that'll\", 'these', 'those', 'am', 'is', 'are', 'was', 'were', 'be', 'been', 'being', 'have', 'has', 'had', 'having', 'do', 'does', 'did', 'doing', 'a', 'an', 'the', 'and', 'but', 'if', 'or', 'because', 'as', 'until', 'while', 'of', 'at', 'by', 'for', 'with', 'about', 'against', 'between', 'into', 'through', 'during', 'before', 'after', 'above', 'below', 'to', 'from', 'up', 'down', 'in', 'out', 'on', 'off', 'over', 'under', 'again', 'further', 'then', 'once', 'here', 'there', 'when', 'where', 'why', 'how', 'all', 'any', 'both', 'each', 'few', 'more', 'most', 'other', 'some', 'such', 'no', 'nor', 'not', 'only', 'own', 'same', 'so', 'than', 'too', 'very', 's', 't', 'can', 'will', 'just', 'don', \"don't\", 'should', \"should've\", 'now', 'd', 'll', 'm', 'o', 're', 've', 'y', 'ain', 'aren', \"aren't\", 'couldn', \"couldn't\", 'didn', \"didn't\", 'doesn', \"doesn't\", 'hadn', \"hadn't\", 'hasn', \"hasn't\", 'haven', \"haven't\", 'isn', \"isn't\", 'ma', 'mightn', \"mightn't\", 'mustn', \"mustn't\", 'needn', \"needn't\", 'shan', \"shan't\", 'shouldn', \"shouldn't\", 'wasn', \"wasn't\", 'weren', \"weren't\", 'won', \"won't\", 'wouldn', \"wouldn't\"]\n"
          ]
        }
      ],
      "source": [
        "print(stopwords.words('english'))\n",
        "emoticons = [\":)\", ':-)', ': )', ':D', '=)', ':(', ':-(', ': (']\n",
        "stpwrd = nltk.corpus.stopwords.words('english')\n",
        "stpwrd.extend(emoticons)"
      ]
    },
    {
      "cell_type": "code",
      "execution_count": null,
      "metadata": {
        "id": "gpTGgw1XGVs7",
        "colab": {
          "base_uri": "https://localhost:8080/"
        },
        "outputId": "227ffcd8-14b6-4e33-c631-76478f532110"
      },
      "outputs": [
        {
          "output_type": "stream",
          "name": "stdout",
          "text": [
            "['i', 'me', 'my', 'myself', 'we', 'our', 'ours', 'ourselves', 'you', \"you're\", \"you've\", \"you'll\", \"you'd\", 'your', 'yours', 'yourself', 'yourselves', 'he', 'him', 'his', 'himself', 'she', \"she's\", 'her', 'hers', 'herself', 'it', \"it's\", 'its', 'itself', 'they', 'them', 'their', 'theirs', 'themselves', 'what', 'which', 'who', 'whom', 'this', 'that', \"that'll\", 'these', 'those', 'am', 'is', 'are', 'was', 'were', 'be', 'been', 'being', 'have', 'has', 'had', 'having', 'do', 'does', 'did', 'doing', 'a', 'an', 'the', 'and', 'but', 'if', 'or', 'because', 'as', 'until', 'while', 'of', 'at', 'by', 'for', 'with', 'about', 'against', 'between', 'into', 'through', 'during', 'before', 'after', 'above', 'below', 'to', 'from', 'up', 'down', 'in', 'out', 'on', 'off', 'over', 'under', 'again', 'further', 'then', 'once', 'here', 'there', 'when', 'where', 'why', 'how', 'all', 'any', 'both', 'each', 'few', 'more', 'most', 'other', 'some', 'such', 'no', 'nor', 'not', 'only', 'own', 'same', 'so', 'than', 'too', 'very', 's', 't', 'can', 'will', 'just', 'don', \"don't\", 'should', \"should've\", 'now', 'd', 'll', 'm', 'o', 're', 've', 'y', 'ain', 'aren', \"aren't\", 'couldn', \"couldn't\", 'didn', \"didn't\", 'doesn', \"doesn't\", 'hadn', \"hadn't\", 'hasn', \"hasn't\", 'haven', \"haven't\", 'isn', \"isn't\", 'ma', 'mightn', \"mightn't\", 'mustn', \"mustn't\", 'needn', \"needn't\", 'shan', \"shan't\", 'shouldn', \"shouldn't\", 'wasn', \"wasn't\", 'weren', \"weren't\", 'won', \"won't\", 'wouldn', \"wouldn't\", ':)', ':-)', ': )', ':D', '=)', ':(', ':-(', ': (']\n"
          ]
        }
      ],
      "source": [
        "print(stpwrd)"
      ]
    },
    {
      "cell_type": "code",
      "execution_count": null,
      "metadata": {
        "id": "ROlAww5GnBos"
      },
      "outputs": [],
      "source": [
        "import re # import regex\n",
        "\n",
        "def preprocess_data(data):\n",
        "  data = data.drop_duplicates(subset=['text'], keep='first')\n",
        "\n",
        "  # Remove emojis from data\n",
        "  data = data.astype(str).apply(lambda x: x.str.encode('ascii', 'ignore').str.decode('ascii'))\n",
        "\n",
        "  # Remove emoticons as stopwords so it will happen when tokenizing our sentences hence not needed here\n",
        "\n",
        "  # Remove urls\n",
        "  def remove_username_link_nums(text):\n",
        "    text = re.sub('@[^\\s]+', '', text)\n",
        "    text = re.sub('http[^\\s]+', '', text)\n",
        "    text = re.sub(r'\\d+', '', text)\n",
        "    return text\n",
        "\n",
        "  data['text'] = data['text'].apply(remove_username_link_nums)\n",
        "\n",
        "  # # turn text to lowercase\n",
        "  data['text'] = data['text'].map(lambda x: x.lower())\n",
        "\n",
        "  # Remove stopwords and lemmatize the text\n",
        "  lem = WordNetLemmatizer()\n",
        "  def remove_stopwords(text): \n",
        "    tokens = []\n",
        "    for token in text.split():\n",
        "      if token not in stpwrd:\n",
        "        tokens.append(lem.lemmatize(token, \"v\"))\n",
        " \n",
        "    return  \" \".join(tokens)\n",
        "\n",
        "  data.text = data.text.apply(lambda x: remove_stopwords(x))\n",
        "\n",
        "\n",
        "  return data\n"
      ]
    },
    {
      "cell_type": "markdown",
      "source": [
        "## Analysing our main data\n",
        "It is essential that we take a look at the data we're finally going to use for building our model.\n",
        "We'll also divide our data into testing and training data without wasting any more time."
      ],
      "metadata": {
        "id": "XpjBypPQJHj9"
      }
    },
    {
      "cell_type": "code",
      "execution_count": null,
      "metadata": {
        "id": "ASH7B9MT08hA"
      },
      "outputs": [],
      "source": [
        "train_neg = training_data[:10000]\n",
        "train_pos = training_data[1590000:]\n"
      ]
    },
    {
      "cell_type": "code",
      "execution_count": null,
      "metadata": {
        "id": "UPnl3KkDBJZn"
      },
      "outputs": [],
      "source": [
        "test_neg = training_data[10000:12000]\n",
        "test_pos = training_data[1588000:1590000]"
      ]
    },
    {
      "cell_type": "code",
      "execution_count": null,
      "metadata": {
        "id": "90EWCJwV1R2n"
      },
      "outputs": [],
      "source": [
        "test_neg = preprocess_data(test_neg.drop(['ids', 'date', 'flag', 'user'], axis=1))\n",
        "test_pos = preprocess_data(test_pos.drop(['ids', 'date', 'flag', 'user'], axis=1))\n",
        "train_neg = preprocess_data(train_neg.drop(['ids', 'date', 'flag', 'user'], axis=1))\n",
        "train_pos = preprocess_data(train_pos.drop(['ids', 'date', 'flag', 'user'], axis=1))"
      ]
    },
    {
      "cell_type": "code",
      "execution_count": null,
      "metadata": {
        "colab": {
          "base_uri": "https://localhost:8080/"
        },
        "id": "HwwTf3f_4aKm",
        "outputId": "9c35c9e2-9b79-4e4a-8212-1a905dfb970e"
      },
      "outputs": [
        {
          "output_type": "execute_result",
          "data": {
            "text/plain": [
              "(10000, 6)"
            ]
          },
          "metadata": {},
          "execution_count": 14
        }
      ],
      "source": [
        "train_neg.shape"
      ]
    },
    {
      "cell_type": "code",
      "execution_count": null,
      "metadata": {
        "id": "PgFQko981GW3"
      },
      "outputs": [],
      "source": [
        "train_examples =pd.concat([train_neg, train_pos])\n",
        "test_examples =pd.concat([test_neg, test_pos])"
      ]
    },
    {
      "cell_type": "code",
      "execution_count": null,
      "metadata": {
        "colab": {
          "base_uri": "https://localhost:8080/"
        },
        "id": "7eU6G1Cj4khg",
        "outputId": "ad71b757-54cb-4c65-8726-7a0717aec314"
      },
      "outputs": [
        {
          "output_type": "execute_result",
          "data": {
            "text/plain": [
              "(19955, 2)"
            ]
          },
          "metadata": {},
          "execution_count": 23
        }
      ],
      "source": [
        "train_examples.shape"
      ]
    },
    {
      "cell_type": "code",
      "execution_count": null,
      "metadata": {
        "colab": {
          "base_uri": "https://localhost:8080/"
        },
        "id": "h38VOPWl3RIK",
        "outputId": "8c786e07-20b6-471a-8155-72f20dab37ac"
      },
      "outputs": [
        {
          "output_type": "execute_result",
          "data": {
            "text/plain": [
              "(3996, 2)"
            ]
          },
          "metadata": {},
          "execution_count": 24
        }
      ],
      "source": [
        "test_examples.shape"
      ]
    },
    {
      "cell_type": "code",
      "source": [
        "# Fix : The following code would run without any error but with new update of nltk, wordprocessng not done without omw\n",
        "nltk.download('omw-1.4') "
      ],
      "metadata": {
        "colab": {
          "base_uri": "https://localhost:8080/"
        },
        "id": "g89qR-qOOyfn",
        "outputId": "878b251a-1e27-44a3-aaec-36752f9098a5"
      },
      "execution_count": null,
      "outputs": [
        {
          "output_type": "stream",
          "name": "stderr",
          "text": [
            "[nltk_data] Downloading package omw-1.4 to /root/nltk_data...\n"
          ]
        },
        {
          "output_type": "execute_result",
          "data": {
            "text/plain": [
              "True"
            ]
          },
          "metadata": {},
          "execution_count": 17
        }
      ]
    },
    {
      "cell_type": "code",
      "execution_count": null,
      "metadata": {
        "id": "pIihkI5sHYLp",
        "colab": {
          "base_uri": "https://localhost:8080/",
          "height": 206
        },
        "outputId": "3c6c8d8f-be11-4024-f31f-8038b7dd4db1"
      },
      "outputs": [
        {
          "output_type": "execute_result",
          "data": {
            "text/plain": [
              "  target                                               text\n",
              "0      0  - awww, that's bummer. shoulda get david carr ...\n",
              "1      0  upset can't update facebook texting it... migh...\n",
              "2      0   dive many time ball. manage save % rest go bound\n",
              "3      0                    whole body feel itchy like fire\n",
              "4      0    no, behave all. i'm mad. here? can't see there."
            ],
            "text/html": [
              "\n",
              "  <div id=\"df-f05a4bab-6c40-40ec-a158-c374236fce08\">\n",
              "    <div class=\"colab-df-container\">\n",
              "      <div>\n",
              "<style scoped>\n",
              "    .dataframe tbody tr th:only-of-type {\n",
              "        vertical-align: middle;\n",
              "    }\n",
              "\n",
              "    .dataframe tbody tr th {\n",
              "        vertical-align: top;\n",
              "    }\n",
              "\n",
              "    .dataframe thead th {\n",
              "        text-align: right;\n",
              "    }\n",
              "</style>\n",
              "<table border=\"1\" class=\"dataframe\">\n",
              "  <thead>\n",
              "    <tr style=\"text-align: right;\">\n",
              "      <th></th>\n",
              "      <th>target</th>\n",
              "      <th>text</th>\n",
              "    </tr>\n",
              "  </thead>\n",
              "  <tbody>\n",
              "    <tr>\n",
              "      <th>0</th>\n",
              "      <td>0</td>\n",
              "      <td>- awww, that's bummer. shoulda get david carr ...</td>\n",
              "    </tr>\n",
              "    <tr>\n",
              "      <th>1</th>\n",
              "      <td>0</td>\n",
              "      <td>upset can't update facebook texting it... migh...</td>\n",
              "    </tr>\n",
              "    <tr>\n",
              "      <th>2</th>\n",
              "      <td>0</td>\n",
              "      <td>dive many time ball. manage save % rest go bound</td>\n",
              "    </tr>\n",
              "    <tr>\n",
              "      <th>3</th>\n",
              "      <td>0</td>\n",
              "      <td>whole body feel itchy like fire</td>\n",
              "    </tr>\n",
              "    <tr>\n",
              "      <th>4</th>\n",
              "      <td>0</td>\n",
              "      <td>no, behave all. i'm mad. here? can't see there.</td>\n",
              "    </tr>\n",
              "  </tbody>\n",
              "</table>\n",
              "</div>\n",
              "      <button class=\"colab-df-convert\" onclick=\"convertToInteractive('df-f05a4bab-6c40-40ec-a158-c374236fce08')\"\n",
              "              title=\"Convert this dataframe to an interactive table.\"\n",
              "              style=\"display:none;\">\n",
              "        \n",
              "  <svg xmlns=\"http://www.w3.org/2000/svg\" height=\"24px\"viewBox=\"0 0 24 24\"\n",
              "       width=\"24px\">\n",
              "    <path d=\"M0 0h24v24H0V0z\" fill=\"none\"/>\n",
              "    <path d=\"M18.56 5.44l.94 2.06.94-2.06 2.06-.94-2.06-.94-.94-2.06-.94 2.06-2.06.94zm-11 1L8.5 8.5l.94-2.06 2.06-.94-2.06-.94L8.5 2.5l-.94 2.06-2.06.94zm10 10l.94 2.06.94-2.06 2.06-.94-2.06-.94-.94-2.06-.94 2.06-2.06.94z\"/><path d=\"M17.41 7.96l-1.37-1.37c-.4-.4-.92-.59-1.43-.59-.52 0-1.04.2-1.43.59L10.3 9.45l-7.72 7.72c-.78.78-.78 2.05 0 2.83L4 21.41c.39.39.9.59 1.41.59.51 0 1.02-.2 1.41-.59l7.78-7.78 2.81-2.81c.8-.78.8-2.07 0-2.86zM5.41 20L4 18.59l7.72-7.72 1.47 1.35L5.41 20z\"/>\n",
              "  </svg>\n",
              "      </button>\n",
              "      \n",
              "  <style>\n",
              "    .colab-df-container {\n",
              "      display:flex;\n",
              "      flex-wrap:wrap;\n",
              "      gap: 12px;\n",
              "    }\n",
              "\n",
              "    .colab-df-convert {\n",
              "      background-color: #E8F0FE;\n",
              "      border: none;\n",
              "      border-radius: 50%;\n",
              "      cursor: pointer;\n",
              "      display: none;\n",
              "      fill: #1967D2;\n",
              "      height: 32px;\n",
              "      padding: 0 0 0 0;\n",
              "      width: 32px;\n",
              "    }\n",
              "\n",
              "    .colab-df-convert:hover {\n",
              "      background-color: #E2EBFA;\n",
              "      box-shadow: 0px 1px 2px rgba(60, 64, 67, 0.3), 0px 1px 3px 1px rgba(60, 64, 67, 0.15);\n",
              "      fill: #174EA6;\n",
              "    }\n",
              "\n",
              "    [theme=dark] .colab-df-convert {\n",
              "      background-color: #3B4455;\n",
              "      fill: #D2E3FC;\n",
              "    }\n",
              "\n",
              "    [theme=dark] .colab-df-convert:hover {\n",
              "      background-color: #434B5C;\n",
              "      box-shadow: 0px 1px 3px 1px rgba(0, 0, 0, 0.15);\n",
              "      filter: drop-shadow(0px 1px 2px rgba(0, 0, 0, 0.3));\n",
              "      fill: #FFFFFF;\n",
              "    }\n",
              "  </style>\n",
              "\n",
              "      <script>\n",
              "        const buttonEl =\n",
              "          document.querySelector('#df-f05a4bab-6c40-40ec-a158-c374236fce08 button.colab-df-convert');\n",
              "        buttonEl.style.display =\n",
              "          google.colab.kernel.accessAllowed ? 'block' : 'none';\n",
              "\n",
              "        async function convertToInteractive(key) {\n",
              "          const element = document.querySelector('#df-f05a4bab-6c40-40ec-a158-c374236fce08');\n",
              "          const dataTable =\n",
              "            await google.colab.kernel.invokeFunction('convertToInteractive',\n",
              "                                                     [key], {});\n",
              "          if (!dataTable) return;\n",
              "\n",
              "          const docLinkHtml = 'Like what you see? Visit the ' +\n",
              "            '<a target=\"_blank\" href=https://colab.research.google.com/notebooks/data_table.ipynb>data table notebook</a>'\n",
              "            + ' to learn more about interactive tables.';\n",
              "          element.innerHTML = '';\n",
              "          dataTable['output_type'] = 'display_data';\n",
              "          await google.colab.output.renderOutput(dataTable, element);\n",
              "          const docLink = document.createElement('div');\n",
              "          docLink.innerHTML = docLinkHtml;\n",
              "          element.appendChild(docLink);\n",
              "        }\n",
              "      </script>\n",
              "    </div>\n",
              "  </div>\n",
              "  "
            ]
          },
          "metadata": {},
          "execution_count": 18
        }
      ],
      "source": [
        "train_data = preprocess_data(training_data.drop(['ids', 'date', 'flag', 'user'], axis=1))\n",
        "test_data = preprocess_data(testing_data.drop(['ids', 'date', 'flag', 'user'], axis=1))\n",
        "\n",
        "train_data.head()"
      ]
    },
    {
      "cell_type": "code",
      "execution_count": null,
      "metadata": {
        "id": "DQq1uVp0RU0g",
        "colab": {
          "base_uri": "https://localhost:8080/"
        },
        "outputId": "873d8406-695a-48a2-87ca-507a016958dc"
      },
      "outputs": [
        {
          "output_type": "execute_result",
          "data": {
            "text/plain": [
              "target    0\n",
              "text      0\n",
              "dtype: int64"
            ]
          },
          "metadata": {},
          "execution_count": 19
        }
      ],
      "source": [
        "# taking care of missing data\n",
        "train_data.isna().sum().sort_values()\n",
        "# since no data is missing, let's move on with the workflow"
      ]
    },
    {
      "cell_type": "code",
      "execution_count": null,
      "metadata": {
        "colab": {
          "base_uri": "https://localhost:8080/"
        },
        "id": "Y8Mbozl_2EY1",
        "outputId": "9f5e474d-cd2b-4133-90f3-11d647db69f7"
      },
      "outputs": [
        {
          "output_type": "stream",
          "name": "stdout",
          "text": [
            "target\n",
            "0    9976\n",
            "4    9979\n",
            "dtype: int64\n"
          ]
        }
      ],
      "source": [
        "print(train_examples.groupby('target').size())"
      ]
    },
    {
      "cell_type": "code",
      "execution_count": null,
      "metadata": {
        "colab": {
          "base_uri": "https://localhost:8080/"
        },
        "id": "eFfS6ymDc-vM",
        "outputId": "bbb2b89c-07e0-4146-88b8-22503477ed5e"
      },
      "outputs": [
        {
          "output_type": "stream",
          "name": "stdout",
          "text": [
            "target\n",
            "0    1996\n",
            "4    2000\n",
            "dtype: int64\n"
          ]
        }
      ],
      "source": [
        "print(test_examples.groupby('target').size())"
      ]
    },
    {
      "cell_type": "code",
      "execution_count": null,
      "metadata": {
        "colab": {
          "base_uri": "https://localhost:8080/"
        },
        "id": "_JG-G_9i3ET_",
        "outputId": "dddc1aef-d331-418c-ba79-9736d25d40a7"
      },
      "outputs": [
        {
          "output_type": "stream",
          "name": "stdout",
          "text": [
            "target\n",
            "0    1996\n",
            "4    2000\n",
            "dtype: int64\n"
          ]
        }
      ],
      "source": [
        "print(test_examples.groupby('target').size())"
      ]
    },
    {
      "cell_type": "code",
      "execution_count": null,
      "metadata": {
        "id": "GR73W38ieg8J",
        "colab": {
          "base_uri": "https://localhost:8080/"
        },
        "outputId": "23247092-07d3-49a3-eca4-23eda0b328eb"
      },
      "outputs": [
        {
          "output_type": "stream",
          "name": "stdout",
          "text": [
            "Shape of training data : (1581466, 2)\n"
          ]
        }
      ],
      "source": [
        "print(f\"Shape of training data : {train_data.shape}\")"
      ]
    },
    {
      "cell_type": "code",
      "source": [
        "train_examples.shape"
      ],
      "metadata": {
        "colab": {
          "base_uri": "https://localhost:8080/"
        },
        "id": "Clsf-_kNP4wt",
        "outputId": "358493c1-c996-4d86-ef80-7949fbc61e36"
      },
      "execution_count": null,
      "outputs": [
        {
          "output_type": "execute_result",
          "data": {
            "text/plain": [
              "(19955, 2)"
            ]
          },
          "metadata": {},
          "execution_count": 30
        }
      ]
    },
    {
      "cell_type": "code",
      "source": [],
      "metadata": {
        "id": "LpP_lBJeQXmC"
      },
      "execution_count": null,
      "outputs": []
    },
    {
      "cell_type": "markdown",
      "source": [
        "## Start tokenizing our tweets!\n",
        "We're done organizing our data.\n",
        "The next task is to tokenize our data to make to \"assign meaning to words\".\n",
        "Tokenization is where the actual nlp begins i.e. step no. 1."
      ],
      "metadata": {
        "id": "Q9Jr-GZXJ0fk"
      }
    },
    {
      "cell_type": "code",
      "execution_count": null,
      "metadata": {
        "id": "NlFI4nS3Xo5A"
      },
      "outputs": [],
      "source": [
        "tokenizer = Tokenizer()\n",
        "tokenizer.fit_on_texts(train_examples.text)\n"
      ]
    },
    {
      "cell_type": "code",
      "execution_count": null,
      "metadata": {
        "id": "8_Kzu81mcR97"
      },
      "outputs": [],
      "source": [
        "vocab_size = len(tokenizer.word_index) + 1 \n",
        "embedding_dim = 16 \n",
        "max_length = 50 \n",
        "trunc_type='post'  \n",
        "padding_type='post' \n",
        "oov_tok = \"<OOV>\" \n",
        "training_portion = .8"
      ]
    },
    {
      "cell_type": "code",
      "execution_count": null,
      "metadata": {
        "id": "uHIb423CYAYb"
      },
      "outputs": [],
      "source": [
        "train_sequences = tokenizer.texts_to_sequences(train_examples.text)\n",
        "test_sequences = tokenizer.texts_to_sequences(test_examples.text)\n",
        "\n",
        "X_train = pad_sequences(train_sequences, maxlen = max_length, padding = padding_type)\n",
        "\n",
        "X_test = pad_sequences(test_sequences, maxlen = max_length, padding = padding_type)"
      ]
    },
    {
      "cell_type": "code",
      "execution_count": null,
      "metadata": {
        "id": "9zM8qvH3lKT-"
      },
      "outputs": [],
      "source": [
        "word_index = tokenizer.word_index"
      ]
    },
    {
      "cell_type": "code",
      "execution_count": null,
      "metadata": {
        "colab": {
          "base_uri": "https://localhost:8080/"
        },
        "id": "MAT4ten57IJX",
        "outputId": "9beee999-5345-4126-bd47-e041e5b4e966"
      },
      "outputs": [
        {
          "output_type": "execute_result",
          "data": {
            "text/plain": [
              "18991"
            ]
          },
          "metadata": {},
          "execution_count": 35
        }
      ],
      "source": [
        "len(word_index)"
      ]
    },
    {
      "cell_type": "code",
      "execution_count": null,
      "metadata": {
        "colab": {
          "base_uri": "https://localhost:8080/"
        },
        "id": "W4i2HsjniOc9",
        "outputId": "0f4f182d-8990-408b-b80f-15d975d2deff"
      },
      "outputs": [
        {
          "output_type": "execute_result",
          "data": {
            "text/plain": [
              "(19955, 50)"
            ]
          },
          "metadata": {},
          "execution_count": 36
        }
      ],
      "source": [
        "X_train.shape"
      ]
    },
    {
      "cell_type": "code",
      "execution_count": null,
      "metadata": {
        "colab": {
          "base_uri": "https://localhost:8080/",
          "height": 206
        },
        "id": "-yeJgWFY051Z",
        "outputId": "30d5edd6-f669-4591-c68f-c9dfb6d96f34"
      },
      "outputs": [
        {
          "output_type": "execute_result",
          "data": {
            "text/plain": [
              "  target                                               text\n",
              "0      4  loooooooovvvvvveee kindle. dx cool, fantastic ...\n",
              "1      4    read kindle... love it... lee childs good read.\n",
              "2      4    ok, first assesment #kindle ...it fuck rocks!!!\n",
              "3      4  love kindle. i've mine months never look back....\n",
              "4      4                  fair enough. kindle think perfect"
            ],
            "text/html": [
              "\n",
              "  <div id=\"df-7ebd03da-41fe-469a-9d17-3ea784a41169\">\n",
              "    <div class=\"colab-df-container\">\n",
              "      <div>\n",
              "<style scoped>\n",
              "    .dataframe tbody tr th:only-of-type {\n",
              "        vertical-align: middle;\n",
              "    }\n",
              "\n",
              "    .dataframe tbody tr th {\n",
              "        vertical-align: top;\n",
              "    }\n",
              "\n",
              "    .dataframe thead th {\n",
              "        text-align: right;\n",
              "    }\n",
              "</style>\n",
              "<table border=\"1\" class=\"dataframe\">\n",
              "  <thead>\n",
              "    <tr style=\"text-align: right;\">\n",
              "      <th></th>\n",
              "      <th>target</th>\n",
              "      <th>text</th>\n",
              "    </tr>\n",
              "  </thead>\n",
              "  <tbody>\n",
              "    <tr>\n",
              "      <th>0</th>\n",
              "      <td>4</td>\n",
              "      <td>loooooooovvvvvveee kindle. dx cool, fantastic ...</td>\n",
              "    </tr>\n",
              "    <tr>\n",
              "      <th>1</th>\n",
              "      <td>4</td>\n",
              "      <td>read kindle... love it... lee childs good read.</td>\n",
              "    </tr>\n",
              "    <tr>\n",
              "      <th>2</th>\n",
              "      <td>4</td>\n",
              "      <td>ok, first assesment #kindle ...it fuck rocks!!!</td>\n",
              "    </tr>\n",
              "    <tr>\n",
              "      <th>3</th>\n",
              "      <td>4</td>\n",
              "      <td>love kindle. i've mine months never look back....</td>\n",
              "    </tr>\n",
              "    <tr>\n",
              "      <th>4</th>\n",
              "      <td>4</td>\n",
              "      <td>fair enough. kindle think perfect</td>\n",
              "    </tr>\n",
              "  </tbody>\n",
              "</table>\n",
              "</div>\n",
              "      <button class=\"colab-df-convert\" onclick=\"convertToInteractive('df-7ebd03da-41fe-469a-9d17-3ea784a41169')\"\n",
              "              title=\"Convert this dataframe to an interactive table.\"\n",
              "              style=\"display:none;\">\n",
              "        \n",
              "  <svg xmlns=\"http://www.w3.org/2000/svg\" height=\"24px\"viewBox=\"0 0 24 24\"\n",
              "       width=\"24px\">\n",
              "    <path d=\"M0 0h24v24H0V0z\" fill=\"none\"/>\n",
              "    <path d=\"M18.56 5.44l.94 2.06.94-2.06 2.06-.94-2.06-.94-.94-2.06-.94 2.06-2.06.94zm-11 1L8.5 8.5l.94-2.06 2.06-.94-2.06-.94L8.5 2.5l-.94 2.06-2.06.94zm10 10l.94 2.06.94-2.06 2.06-.94-2.06-.94-.94-2.06-.94 2.06-2.06.94z\"/><path d=\"M17.41 7.96l-1.37-1.37c-.4-.4-.92-.59-1.43-.59-.52 0-1.04.2-1.43.59L10.3 9.45l-7.72 7.72c-.78.78-.78 2.05 0 2.83L4 21.41c.39.39.9.59 1.41.59.51 0 1.02-.2 1.41-.59l7.78-7.78 2.81-2.81c.8-.78.8-2.07 0-2.86zM5.41 20L4 18.59l7.72-7.72 1.47 1.35L5.41 20z\"/>\n",
              "  </svg>\n",
              "      </button>\n",
              "      \n",
              "  <style>\n",
              "    .colab-df-container {\n",
              "      display:flex;\n",
              "      flex-wrap:wrap;\n",
              "      gap: 12px;\n",
              "    }\n",
              "\n",
              "    .colab-df-convert {\n",
              "      background-color: #E8F0FE;\n",
              "      border: none;\n",
              "      border-radius: 50%;\n",
              "      cursor: pointer;\n",
              "      display: none;\n",
              "      fill: #1967D2;\n",
              "      height: 32px;\n",
              "      padding: 0 0 0 0;\n",
              "      width: 32px;\n",
              "    }\n",
              "\n",
              "    .colab-df-convert:hover {\n",
              "      background-color: #E2EBFA;\n",
              "      box-shadow: 0px 1px 2px rgba(60, 64, 67, 0.3), 0px 1px 3px 1px rgba(60, 64, 67, 0.15);\n",
              "      fill: #174EA6;\n",
              "    }\n",
              "\n",
              "    [theme=dark] .colab-df-convert {\n",
              "      background-color: #3B4455;\n",
              "      fill: #D2E3FC;\n",
              "    }\n",
              "\n",
              "    [theme=dark] .colab-df-convert:hover {\n",
              "      background-color: #434B5C;\n",
              "      box-shadow: 0px 1px 3px 1px rgba(0, 0, 0, 0.15);\n",
              "      filter: drop-shadow(0px 1px 2px rgba(0, 0, 0, 0.3));\n",
              "      fill: #FFFFFF;\n",
              "    }\n",
              "  </style>\n",
              "\n",
              "      <script>\n",
              "        const buttonEl =\n",
              "          document.querySelector('#df-7ebd03da-41fe-469a-9d17-3ea784a41169 button.colab-df-convert');\n",
              "        buttonEl.style.display =\n",
              "          google.colab.kernel.accessAllowed ? 'block' : 'none';\n",
              "\n",
              "        async function convertToInteractive(key) {\n",
              "          const element = document.querySelector('#df-7ebd03da-41fe-469a-9d17-3ea784a41169');\n",
              "          const dataTable =\n",
              "            await google.colab.kernel.invokeFunction('convertToInteractive',\n",
              "                                                     [key], {});\n",
              "          if (!dataTable) return;\n",
              "\n",
              "          const docLinkHtml = 'Like what you see? Visit the ' +\n",
              "            '<a target=\"_blank\" href=https://colab.research.google.com/notebooks/data_table.ipynb>data table notebook</a>'\n",
              "            + ' to learn more about interactive tables.';\n",
              "          element.innerHTML = '';\n",
              "          dataTable['output_type'] = 'display_data';\n",
              "          await google.colab.output.renderOutput(dataTable, element);\n",
              "          const docLink = document.createElement('div');\n",
              "          docLink.innerHTML = docLinkHtml;\n",
              "          element.appendChild(docLink);\n",
              "        }\n",
              "      </script>\n",
              "    </div>\n",
              "  </div>\n",
              "  "
            ]
          },
          "metadata": {},
          "execution_count": 37
        }
      ],
      "source": [
        "test_data.head()"
      ]
    },
    {
      "cell_type": "code",
      "execution_count": null,
      "metadata": {
        "id": "MQFgH5etcG98"
      },
      "outputs": [],
      "source": [
        "y_train = train_examples.target.replace({'0': 0, '4' : 1}).values\n",
        "y_test = test_examples.target.replace({'0': 0, '4' : 1, '2':1}).values"
      ]
    },
    {
      "cell_type": "code",
      "execution_count": null,
      "metadata": {
        "colab": {
          "base_uri": "https://localhost:8080/"
        },
        "id": "ITBWhQbOxKpI",
        "outputId": "da82abe2-9a54-4f67-92f2-c1a808012d65"
      },
      "outputs": [
        {
          "output_type": "execute_result",
          "data": {
            "text/plain": [
              "dtype('int64')"
            ]
          },
          "metadata": {},
          "execution_count": 39
        }
      ],
      "source": [
        "y_test.dtype"
      ]
    },
    {
      "cell_type": "code",
      "execution_count": null,
      "metadata": {
        "id": "0VV2M1nfcFOY"
      },
      "outputs": [],
      "source": [
        "import pickle\n",
        "with open('tokenizer.pickle', 'wb') as handle:\n",
        "    pickle.dump(tokenizer, handle, protocol=pickle.HIGHEST_PROTOCOL)"
      ]
    },
    {
      "cell_type": "markdown",
      "source": [
        "## Word2Vec\n",
        "Word2vec is a technique for NLP. This algorithm uses a neural network model to learn word associations. This may also be called word embedding in various texts.\n",
        "For our purpose and to make the project easy, we will make use of Gensim, which will help us to develop word embeddings."
      ],
      "metadata": {
        "id": "8OCFk0XPKwmx"
      }
    },
    {
      "cell_type": "code",
      "execution_count": null,
      "metadata": {
        "id": "_1fR8D57nbNY"
      },
      "outputs": [],
      "source": [
        "# Word2Vec\n",
        "import gensim\n",
        "\n",
        "# WORD2VEC \n",
        "W2V_SIZE = 228\n",
        "W2V_WINDOW = 7\n",
        "W2V_EPOCH = 10\n",
        "W2V_MIN_COUNT = 10\n",
        "\n",
        "documents = [_text.split() for _text in train_examples.text] \n",
        "w2v_model = gensim.models.word2vec.Word2Vec(size=W2V_SIZE, \n",
        "                                            window=W2V_WINDOW, \n",
        "                                            min_count=W2V_MIN_COUNT, \n",
        "                                            workers=8)\n",
        "w2v_model.build_vocab(documents)"
      ]
    },
    {
      "cell_type": "code",
      "execution_count": null,
      "metadata": {
        "colab": {
          "base_uri": "https://localhost:8080/"
        },
        "id": "6mlRvQPFnvRG",
        "outputId": "c0bf05ae-65cb-4ddf-9399-f47af1facde4"
      },
      "outputs": [
        {
          "output_type": "stream",
          "name": "stdout",
          "text": [
            "Vocab size 1868\n"
          ]
        }
      ],
      "source": [
        "words = w2v_model.wv.vocab.keys()\n",
        "vocab_size = len(words)\n",
        "print(\"Vocab size\", vocab_size)"
      ]
    },
    {
      "cell_type": "code",
      "execution_count": null,
      "metadata": {
        "colab": {
          "base_uri": "https://localhost:8080/"
        },
        "id": "Hc1IgyAmn4bG",
        "outputId": "c12be09f-4bcb-4720-fad4-9aa5cbd6ef28"
      },
      "outputs": [
        {
          "output_type": "execute_result",
          "data": {
            "text/plain": [
              "(870067, 1491990)"
            ]
          },
          "metadata": {},
          "execution_count": 44
        }
      ],
      "source": [
        "w2v_model.train(documents, total_examples=len(documents), epochs=W2V_EPOCH)"
      ]
    },
    {
      "cell_type": "code",
      "execution_count": null,
      "metadata": {
        "colab": {
          "base_uri": "https://localhost:8080/"
        },
        "id": "FBxBNkIYn9u1",
        "outputId": "cc73ad28-7fd4-4462-85f2-383d04006955"
      },
      "outputs": [
        {
          "output_type": "stream",
          "name": "stderr",
          "text": [
            "<ipython-input-49-f1c7c3b5f77d>:1: DeprecationWarning: Call to deprecated `most_similar` (Method will be removed in 4.0.0, use self.wv.most_similar() instead).\n",
            "  w2v_model.most_similar(\"laugh\")\n"
          ]
        },
        {
          "output_type": "execute_result",
          "data": {
            "text/plain": [
              "[('here,', 0.9996582269668579),\n",
              " ('people.', 0.9996448755264282),\n",
              " ('smile', 0.9996345639228821),\n",
              " ('is!', 0.9996265172958374),\n",
              " ('skin', 0.9996176958084106),\n",
              " ('&quot;', 0.9996099472045898),\n",
              " ('wow!', 0.9996069669723511),\n",
              " ('good,', 0.9995885491371155),\n",
              " ('is,', 0.9995819330215454),\n",
              " ('agree', 0.9995812773704529)]"
            ]
          },
          "metadata": {},
          "execution_count": 49
        }
      ],
      "source": [
        "w2v_model.most_similar(\"laugh\")"
      ]
    },
    {
      "cell_type": "code",
      "execution_count": null,
      "metadata": {
        "colab": {
          "base_uri": "https://localhost:8080/"
        },
        "id": "vwoLnRZRoP-N",
        "outputId": "7900e0de-2d50-4002-e2f5-1480f36f1c4c"
      },
      "outputs": [
        {
          "output_type": "stream",
          "name": "stdout",
          "text": [
            "(1869, 228)\n"
          ]
        }
      ],
      "source": [
        "# Embedding matrix for the embedding layer\n",
        "embedding_matrix = np.zeros((vocab_size+1, W2V_SIZE))\n",
        "for word, i in tokenizer.word_index.items():\n",
        "    if word in w2v_model.wv:\n",
        "        embedding_matrix[i] = w2v_model.wv[word]\n",
        "print(embedding_matrix.shape)"
      ]
    },
    {
      "cell_type": "markdown",
      "source": [
        "## Building our NLP model using LSTM\n",
        "LSTM (Long short-term memory) are special kinds of RNN, these are  designed to have a long-term memory making them capable of understanding the context better.\n",
        "Will these help us understand the context or sentiment of our tweets better, or not?\n",
        "There are previously many models built using different algorithms; let's see if using LSTMs make a staggering difference."
      ],
      "metadata": {
        "id": "37x0d7HzLmUr"
      }
    },
    {
      "cell_type": "code",
      "execution_count": null,
      "metadata": {
        "colab": {
          "base_uri": "https://localhost:8080/"
        },
        "id": "HUDxmUbMrMxo",
        "outputId": "888e50a2-e0e1-466f-89b3-9356ed1770da"
      },
      "outputs": [
        {
          "output_type": "stream",
          "name": "stdout",
          "text": [
            "Model: \"Bidirectional_LSTM_1\"\n",
            "_________________________________________________________________\n",
            " Layer (type)                Output Shape              Param #   \n",
            "=================================================================\n",
            " embedding_1 (Embedding)     (None, 50, 228)           426132    \n",
            "                                                                 \n",
            " bidirectional_2 (Bidirectio  (None, 50, 256)          365568    \n",
            " nal)                                                            \n",
            "                                                                 \n",
            " dropout_2 (Dropout)         (None, 50, 256)           0         \n",
            "                                                                 \n",
            " bidirectional_3 (Bidirectio  (None, 256)              394240    \n",
            " nal)                                                            \n",
            "                                                                 \n",
            " dropout_3 (Dropout)         (None, 256)               0         \n",
            "                                                                 \n",
            " dense_2 (Dense)             (None, 64)                16448     \n",
            "                                                                 \n",
            " dense_3 (Dense)             (None, 1)                 65        \n",
            "                                                                 \n",
            "=================================================================\n",
            "Total params: 1,202,453\n",
            "Trainable params: 776,321\n",
            "Non-trainable params: 426,132\n",
            "_________________________________________________________________\n"
          ]
        }
      ],
      "source": [
        "model_1 = tf.keras.models.Sequential([\n",
        "                                      tf.keras.layers.Embedding(vocab_size+1, W2V_SIZE, weights=[embedding_matrix], input_length=max_length, trainable=False),\n",
        "                                      tf.keras.layers.Bidirectional(LSTM(128, return_sequences=True)),\n",
        "                                      tf.keras.layers.Dropout(0.2),\n",
        "                                      tf.keras.layers.Bidirectional(LSTM(128)),\n",
        "                                      tf.keras.layers.Dropout(0.2),\n",
        "                                      tf.keras.layers.Dense(64, activation='relu'),\n",
        "                                      tf.keras.layers.Dense(1, activation='sigmoid')\n",
        "                                                           \n",
        "], name='Bidirectional_LSTM_1')\n",
        "\n",
        "model_1.summary()"
      ]
    },
    {
      "cell_type": "code",
      "execution_count": null,
      "metadata": {
        "colab": {
          "base_uri": "https://localhost:8080/"
        },
        "id": "ZFu7QD9fwx9Y",
        "outputId": "2389f50a-39bf-404f-fef2-806c76b5f316"
      },
      "outputs": [
        {
          "output_type": "execute_result",
          "data": {
            "text/plain": [
              "target    object\n",
              "text      object\n",
              "dtype: object"
            ]
          },
          "metadata": {},
          "execution_count": 52
        }
      ],
      "source": [
        "test_data.dtypes"
      ]
    },
    {
      "cell_type": "code",
      "execution_count": null,
      "metadata": {
        "id": "4-NdYlZfufvZ",
        "colab": {
          "base_uri": "https://localhost:8080/"
        },
        "outputId": "8c1eede0-02bc-405f-bc89-4cbd5490ba59"
      },
      "outputs": [
        {
          "output_type": "stream",
          "name": "stdout",
          "text": [
            "Epoch 1/50\n",
            "624/624 [==============================] - 24s 20ms/step - loss: 0.6748 - accuracy: 0.5726 - val_loss: 0.6593 - val_accuracy: 0.5891\n",
            "Epoch 2/50\n",
            "624/624 [==============================] - 13s 20ms/step - loss: 0.6514 - accuracy: 0.6116 - val_loss: 0.6492 - val_accuracy: 0.6054\n",
            "Epoch 3/50\n",
            "624/624 [==============================] - 11s 18ms/step - loss: 0.6436 - accuracy: 0.6234 - val_loss: 0.6429 - val_accuracy: 0.6161\n",
            "Epoch 4/50\n",
            "624/624 [==============================] - 11s 18ms/step - loss: 0.6400 - accuracy: 0.6256 - val_loss: 0.6470 - val_accuracy: 0.6044\n",
            "Epoch 5/50\n",
            "624/624 [==============================] - 11s 18ms/step - loss: 0.6365 - accuracy: 0.6264 - val_loss: 0.6317 - val_accuracy: 0.6261\n",
            "Epoch 6/50\n",
            "624/624 [==============================] - 11s 18ms/step - loss: 0.6309 - accuracy: 0.6343 - val_loss: 0.6296 - val_accuracy: 0.6289\n",
            "Epoch 7/50\n",
            "624/624 [==============================] - 12s 20ms/step - loss: 0.6320 - accuracy: 0.6333 - val_loss: 0.6310 - val_accuracy: 0.6339\n",
            "Epoch 8/50\n",
            "624/624 [==============================] - 13s 20ms/step - loss: 0.6274 - accuracy: 0.6353 - val_loss: 0.6561 - val_accuracy: 0.6044\n",
            "Epoch 9/50\n",
            "624/624 [==============================] - 11s 18ms/step - loss: 0.6259 - accuracy: 0.6390 - val_loss: 0.6264 - val_accuracy: 0.6309\n",
            "Epoch 10/50\n",
            "624/624 [==============================] - 11s 18ms/step - loss: 0.6231 - accuracy: 0.6411 - val_loss: 0.6248 - val_accuracy: 0.6299\n",
            "Epoch 11/50\n",
            "624/624 [==============================] - 11s 18ms/step - loss: 0.6206 - accuracy: 0.6419 - val_loss: 0.6284 - val_accuracy: 0.6246\n",
            "Epoch 12/50\n",
            "624/624 [==============================] - 11s 18ms/step - loss: 0.6172 - accuracy: 0.6463 - val_loss: 0.6275 - val_accuracy: 0.6276\n",
            "Epoch 13/50\n",
            "624/624 [==============================] - 11s 18ms/step - loss: 0.6173 - accuracy: 0.6460 - val_loss: 0.6261 - val_accuracy: 0.6296\n",
            "Epoch 14/50\n",
            "624/624 [==============================] - 11s 18ms/step - loss: 0.6142 - accuracy: 0.6464 - val_loss: 0.6218 - val_accuracy: 0.6326\n",
            "Epoch 15/50\n",
            "624/624 [==============================] - 11s 18ms/step - loss: 0.6136 - accuracy: 0.6523 - val_loss: 0.6212 - val_accuracy: 0.6426\n",
            "Epoch 16/50\n",
            "624/624 [==============================] - 11s 18ms/step - loss: 0.6109 - accuracy: 0.6541 - val_loss: 0.6229 - val_accuracy: 0.6431\n",
            "Epoch 17/50\n",
            "624/624 [==============================] - 11s 18ms/step - loss: 0.6088 - accuracy: 0.6511 - val_loss: 0.6575 - val_accuracy: 0.6001\n",
            "Epoch 18/50\n",
            "624/624 [==============================] - 11s 18ms/step - loss: 0.6077 - accuracy: 0.6558 - val_loss: 0.6213 - val_accuracy: 0.6419\n",
            "Epoch 19/50\n",
            "624/624 [==============================] - 13s 20ms/step - loss: 0.6036 - accuracy: 0.6558 - val_loss: 0.6238 - val_accuracy: 0.6341\n",
            "Epoch 20/50\n",
            "624/624 [==============================] - 15s 24ms/step - loss: 0.6025 - accuracy: 0.6567 - val_loss: 0.6226 - val_accuracy: 0.6391\n",
            "Epoch 21/50\n",
            "624/624 [==============================] - 11s 18ms/step - loss: 0.5975 - accuracy: 0.6621 - val_loss: 0.6220 - val_accuracy: 0.6391\n",
            "Epoch 22/50\n",
            "624/624 [==============================] - 11s 18ms/step - loss: 0.5939 - accuracy: 0.6656 - val_loss: 0.6302 - val_accuracy: 0.6431\n",
            "Epoch 23/50\n",
            "624/624 [==============================] - 12s 19ms/step - loss: 0.5865 - accuracy: 0.6720 - val_loss: 0.6378 - val_accuracy: 0.6244\n",
            "Epoch 24/50\n",
            "624/624 [==============================] - 11s 18ms/step - loss: 0.5853 - accuracy: 0.6731 - val_loss: 0.6271 - val_accuracy: 0.6476\n",
            "Epoch 25/50\n",
            "624/624 [==============================] - 11s 18ms/step - loss: 0.5787 - accuracy: 0.6755 - val_loss: 0.6329 - val_accuracy: 0.6419\n",
            "Epoch 26/50\n",
            "624/624 [==============================] - 11s 18ms/step - loss: 0.5710 - accuracy: 0.6852 - val_loss: 0.6422 - val_accuracy: 0.6319\n",
            "Epoch 27/50\n",
            "624/624 [==============================] - 11s 18ms/step - loss: 0.5630 - accuracy: 0.6928 - val_loss: 0.6473 - val_accuracy: 0.6366\n",
            "Epoch 28/50\n",
            "624/624 [==============================] - 11s 18ms/step - loss: 0.5574 - accuracy: 0.6957 - val_loss: 0.6604 - val_accuracy: 0.6344\n",
            "Epoch 29/50\n",
            "624/624 [==============================] - 11s 18ms/step - loss: 0.5480 - accuracy: 0.7014 - val_loss: 0.6608 - val_accuracy: 0.6331\n",
            "Epoch 30/50\n",
            "624/624 [==============================] - 14s 22ms/step - loss: 0.5410 - accuracy: 0.7076 - val_loss: 0.6589 - val_accuracy: 0.6331\n",
            "Epoch 31/50\n",
            "624/624 [==============================] - 11s 18ms/step - loss: 0.5303 - accuracy: 0.7177 - val_loss: 0.6741 - val_accuracy: 0.6421\n",
            "Epoch 32/50\n",
            "624/624 [==============================] - 12s 20ms/step - loss: 0.5183 - accuracy: 0.7240 - val_loss: 0.6661 - val_accuracy: 0.6404\n",
            "Epoch 33/50\n",
            "624/624 [==============================] - 13s 21ms/step - loss: 0.5074 - accuracy: 0.7305 - val_loss: 0.6950 - val_accuracy: 0.6379\n",
            "Epoch 34/50\n",
            "624/624 [==============================] - 14s 22ms/step - loss: 0.4973 - accuracy: 0.7364 - val_loss: 0.7381 - val_accuracy: 0.6316\n",
            "Epoch 35/50\n",
            "624/624 [==============================] - 14s 23ms/step - loss: 0.4828 - accuracy: 0.7444 - val_loss: 0.7809 - val_accuracy: 0.6379\n",
            "Epoch 36/50\n",
            "624/624 [==============================] - 15s 24ms/step - loss: 0.4754 - accuracy: 0.7510 - val_loss: 0.7546 - val_accuracy: 0.6304\n",
            "Epoch 37/50\n",
            "624/624 [==============================] - 15s 24ms/step - loss: 0.4649 - accuracy: 0.7568 - val_loss: 0.7543 - val_accuracy: 0.6269\n",
            "Epoch 38/50\n",
            "624/624 [==============================] - 15s 23ms/step - loss: 0.4496 - accuracy: 0.7678 - val_loss: 0.7942 - val_accuracy: 0.6161\n",
            "Epoch 39/50\n",
            "624/624 [==============================] - 15s 23ms/step - loss: 0.4401 - accuracy: 0.7697 - val_loss: 0.8064 - val_accuracy: 0.6331\n",
            "Epoch 40/50\n",
            "624/624 [==============================] - 15s 23ms/step - loss: 0.4277 - accuracy: 0.7786 - val_loss: 0.8194 - val_accuracy: 0.6279\n",
            "Epoch 41/50\n",
            "624/624 [==============================] - 13s 21ms/step - loss: 0.4089 - accuracy: 0.7913 - val_loss: 0.9051 - val_accuracy: 0.6239\n",
            "Epoch 42/50\n",
            "624/624 [==============================] - 15s 24ms/step - loss: 0.4105 - accuracy: 0.7883 - val_loss: 0.8946 - val_accuracy: 0.6316\n",
            "Epoch 43/50\n",
            "624/624 [==============================] - 17s 27ms/step - loss: 0.3993 - accuracy: 0.7959 - val_loss: 0.8943 - val_accuracy: 0.6274\n",
            "Epoch 44/50\n",
            "624/624 [==============================] - 16s 26ms/step - loss: 0.3828 - accuracy: 0.8018 - val_loss: 0.9307 - val_accuracy: 0.6369\n",
            "Epoch 45/50\n",
            "624/624 [==============================] - 15s 24ms/step - loss: 0.3798 - accuracy: 0.8041 - val_loss: 0.9526 - val_accuracy: 0.6184\n",
            "Epoch 46/50\n",
            "624/624 [==============================] - 11s 18ms/step - loss: 0.3695 - accuracy: 0.8127 - val_loss: 0.9532 - val_accuracy: 0.6314\n",
            "Epoch 47/50\n",
            "624/624 [==============================] - 11s 18ms/step - loss: 0.3584 - accuracy: 0.8205 - val_loss: 0.9781 - val_accuracy: 0.6286\n",
            "Epoch 48/50\n",
            "624/624 [==============================] - 11s 18ms/step - loss: 0.3514 - accuracy: 0.8244 - val_loss: 1.0337 - val_accuracy: 0.6286\n",
            "Epoch 49/50\n",
            "624/624 [==============================] - 12s 19ms/step - loss: 0.3428 - accuracy: 0.8266 - val_loss: 1.0588 - val_accuracy: 0.6336\n",
            "Epoch 50/50\n",
            "624/624 [==============================] - 12s 19ms/step - loss: 0.3380 - accuracy: 0.8334 - val_loss: 1.1120 - val_accuracy: 0.6216\n"
          ]
        }
      ],
      "source": [
        "model_1.compile(loss='binary_crossentropy',\n",
        "              optimizer=\"adam\",\n",
        "              metrics=['accuracy'])\n",
        "\n",
        "history = model_1.fit(X_train, y_train, batch_size = 32, epochs=50, validation_data=(X_test, y_test), verbose=1)"
      ]
    },
    {
      "cell_type": "code",
      "execution_count": null,
      "metadata": {
        "id": "lpuXACr73lnw",
        "colab": {
          "base_uri": "https://localhost:8080/"
        },
        "outputId": "6aeac90c-b6f1-4d67-db86-7c967abb0bc3"
      },
      "outputs": [
        {
          "output_type": "stream",
          "name": "stdout",
          "text": [
            "125/125 [==============================] - 2s 8ms/step\n"
          ]
        }
      ],
      "source": [
        "y_pred = model_1.predict(X_test)\n",
        "y_pred = np.where(y_pred>0.5, 1, 0)"
      ]
    },
    {
      "cell_type": "markdown",
      "source": [
        "## Computational limitations\n",
        "This project was built with zero monetary investment. The model performed with over an accuracy of 83% which is not much but the sample size taken was very small and the complexity of the RNN was very simple to make this model work fast. Training time ~ 10 mins for word vector, and RNN combined. This could have performed better with a better GPU and memory investment."
      ],
      "metadata": {
        "id": "15mCJDOdS_TB"
      }
    },
    {
      "cell_type": "code",
      "execution_count": null,
      "metadata": {
        "colab": {
          "base_uri": "https://localhost:8080/"
        },
        "id": "7UVFDxb63rZQ",
        "outputId": "f6cacb3e-4b86-43d3-c637-554369064c50"
      },
      "outputs": [
        {
          "output_type": "stream",
          "name": "stdout",
          "text": [
            "              precision    recall  f1-score   support\n",
            "\n",
            "           0       0.64      0.55      0.59      1996\n",
            "           1       0.61      0.69      0.65      2000\n",
            "\n",
            "    accuracy                           0.62      3996\n",
            "   macro avg       0.62      0.62      0.62      3996\n",
            "weighted avg       0.62      0.62      0.62      3996\n",
            "\n"
          ]
        }
      ],
      "source": [
        "print(classification_report(y_test, y_pred))"
      ]
    },
    {
      "cell_type": "code",
      "execution_count": null,
      "metadata": {
        "id": "kuCzKhdE4GqI"
      },
      "outputs": [],
      "source": [
        "model_1.save('Sentiment_LSTM_model_better.h5')\n",
        "with open('trainHistoryDict', 'wb') as file_pi:\n",
        "    pickle.dump(history.history, file_pi)"
      ]
    },
    {
      "cell_type": "code",
      "execution_count": null,
      "metadata": {
        "id": "oqqai8J84u64"
      },
      "outputs": [],
      "source": [
        "from keras.models import load_model\n",
        "model_1 = load_model('Sentiment_LSTM_model_better.h5')\n",
        "# loading tokenizer\n",
        "with open('trainHistoryDict', 'rb') as file_pi:\n",
        "    history = pickle.load(file_pi)"
      ]
    },
    {
      "cell_type": "code",
      "execution_count": null,
      "metadata": {
        "colab": {
          "base_uri": "https://localhost:8080/"
        },
        "id": "iV5gaV8y-Zog",
        "outputId": "94049b20-1bf3-4072-f00f-1b78a55cc36b"
      },
      "outputs": [
        {
          "output_type": "execute_result",
          "data": {
            "text/plain": [
              "dict_keys(['loss', 'accuracy', 'val_loss', 'val_accuracy'])"
            ]
          },
          "metadata": {},
          "execution_count": 64
        }
      ],
      "source": [
        "history.keys()"
      ]
    },
    {
      "cell_type": "code",
      "execution_count": null,
      "metadata": {
        "colab": {
          "base_uri": "https://localhost:8080/",
          "height": 703
        },
        "id": "ur0KNggM9eYx",
        "outputId": "8e9c8238-a98c-43a4-f2be-b8abfdfa630b"
      },
      "outputs": [
        {
          "output_type": "display_data",
          "data": {
            "text/plain": [
              "<Figure size 720x360 with 1 Axes>"
            ],
            "image/png": "[encoded data removed]"
          },
          "metadata": {
            "needs_background": "light"
          }
        },
        {
          "output_type": "display_data",
          "data": {
            "text/plain": [
              "<Figure size 720x360 with 1 Axes>"
            ],
            "image/png": "[encoded data removed]"
          },
          "metadata": {
            "needs_background": "light"
          }
        }
      ],
      "source": [
        "plt.figure(figsize=(10,5))\n",
        "plt.plot(history['accuracy'])\n",
        "plt.plot(history['val_accuracy'])\n",
        "plt.title('model accuracy')\n",
        "plt.ylabel('accuracy')\n",
        "plt.xlabel('epoch')\n",
        "plt.legend(['Train accuracy', 'Test accuracy'], loc='lower right')\n",
        "plt.show()\n",
        "# History for loss\n",
        "plt.figure(figsize=(10,5))\n",
        "plt.plot(history['loss'])\n",
        "plt.plot(history['val_loss'])\n",
        "plt.title('model loss')\n",
        "plt.ylabel('loss')\n",
        "plt.xlabel('epoch')\n",
        "plt.legend(['Train loss', 'Test loss'], loc='upper right')\n",
        "plt.suptitle('Accuracy and loss for second model')\n",
        "plt.show()"
      ]
    },
    {
      "cell_type": "code",
      "execution_count": null,
      "metadata": {
        "id": "0fhHdevU-uiq"
      },
      "outputs": [],
      "source": [
        "def predict(text, include_neutral=True):\n",
        "    # Tokenize text\n",
        "    x_test = pad_sequences(tokenizer.texts_to_sequences([text]), maxlen=max_length)\n",
        "    # Predict\n",
        "    score = model_1.predict([x_test])[0]\n",
        "    if(score >=0.4 and score<=0.6):\n",
        "        label = \"Neutral\"\n",
        "    if(score >=0.4):\n",
        "        label = \"Negative\"\n",
        "    if(score <=0.6):\n",
        "        label = \"Positive\"\n",
        "\n",
        "    return {\"label\" : label,\n",
        "        \"score\": float(score)} "
      ]
    },
    {
      "cell_type": "code",
      "execution_count": null,
      "metadata": {
        "colab": {
          "base_uri": "https://localhost:8080/"
        },
        "id": "D1BAPH_x--ap",
        "outputId": "03df42ef-499d-4079-b4cf-085eabd397ff"
      },
      "outputs": [
        {
          "output_type": "stream",
          "name": "stdout",
          "text": [
            "1/1 [==============================] - 1s 1s/step\n"
          ]
        },
        {
          "output_type": "execute_result",
          "data": {
            "text/plain": [
              "{'label': 'Positive', 'score': 0.5246134996414185}"
            ]
          },
          "metadata": {},
          "execution_count": 67
        }
      ],
      "source": [
        "predict(\" i love everyone\")"
      ]
    },
    {
      "cell_type": "code",
      "source": [
        "predict(\" i hate twitter\")"
      ],
      "metadata": {
        "colab": {
          "base_uri": "https://localhost:8080/"
        },
        "id": "kndl3QydUOgg",
        "outputId": "9c48480a-3a65-4c0e-fdc2-7cae64e3604f"
      },
      "execution_count": null,
      "outputs": [
        {
          "output_type": "stream",
          "name": "stdout",
          "text": [
            "1/1 [==============================] - 0s 41ms/step\n"
          ]
        },
        {
          "output_type": "execute_result",
          "data": {
            "text/plain": [
              "{'label': 'Negative', 'score': 0.6320455074310303}"
            ]
          },
          "metadata": {},
          "execution_count": 69
        }
      ]
    },
    {
      "cell_type": "code",
      "execution_count": null,
      "metadata": {
        "colab": {
          "base_uri": "https://localhost:8080/"
        },
        "id": "cq1097C9HpEC",
        "outputId": "7727a804-d398-4359-d72e-976958f44afc"
      },
      "outputs": [
        {
          "output_type": "stream",
          "name": "stdout",
          "text": [
            "1/1 [==============================] - 0s 26ms/step\n"
          ]
        },
        {
          "output_type": "execute_result",
          "data": {
            "text/plain": [
              "{'label': 'Positive', 'score': 0.542919933795929}"
            ]
          },
          "metadata": {},
          "execution_count": 71
        }
      ],
      "source": [
        "predict(\"it is good to show love\")"
      ]
    },
    {
      "cell_type": "code",
      "source": [
        "predict(\"I love how idiots are never killed in movies\")"
      ],
      "metadata": {
        "colab": {
          "base_uri": "https://localhost:8080/"
        },
        "id": "cZqIKVWkLAV6",
        "outputId": "1ea065be-715f-47ae-d569-d5b06f06140b"
      },
      "execution_count": null,
      "outputs": [
        {
          "output_type": "stream",
          "name": "stdout",
          "text": [
            "1/1 [==============================] - 0s 23ms/step\n"
          ]
        },
        {
          "output_type": "execute_result",
          "data": {
            "text/plain": [
              "{'label': 'Negative', 'score': 0.6007909774780273}"
            ]
          },
          "metadata": {},
          "execution_count": 74
        }
      ]
    },
    {
      "cell_type": "code",
      "source": [],
      "metadata": {
        "id": "sQkfOqNh9KhM"
      },
      "execution_count": null,
      "outputs": []
    }
  ],
  "metadata": {
    "accelerator": "GPU",
    "colab": {
      "provenance": []
    },
    "kernelspec": {
      "display_name": "Python 3",
      "name": "python3"
    },
    "language_info": {
      "name": "python"
    }
  },
  "nbformat": 4,
  "nbformat_minor": 0
}